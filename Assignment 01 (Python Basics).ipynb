{
 "cells": [
  {
   "cell_type": "markdown",
   "metadata": {},
   "source": [
    "# Part -1 Python Basics (Variables)"
   ]
  },
  {
   "cell_type": "markdown",
   "metadata": {},
   "source": [
    "1. Print Your Name with your Father name and Date of birth using suitable escape sequence charactor"
   ]
  },
  {
   "cell_type": "code",
   "execution_count": 11,
   "metadata": {},
   "outputs": [
    {
     "name": "stdout",
     "output_type": "stream",
     "text": [
      " My Name is Muneeb Babar \n",
      " My Father Name is Babar Shafi \n",
      " and DOB is 13-12-2000\n"
     ]
    }
   ],
   "source": [
    "# Write your code here\n",
    "myName=\"Muneeb Babar\"\n",
    "fatherName=\"Babar Shafi\"\n",
    "dob=\"13-12-2000\"\n",
    "\n",
    "print(f\" My Name is {myName} \\n My Father Name is {fatherName} \\n and DOB is {dob}\")"
   ]
  },
  {
   "cell_type": "markdown",
   "metadata": {},
   "source": [
    "2. Write your small bio using variables and print it using print function"
   ]
  },
  {
   "cell_type": "code",
   "execution_count": null,
   "metadata": {},
   "outputs": [],
   "source": [
    "# Write your code here\n",
    "bio=\"I'm Muneeb, a passionate undergraduate student I’m a skilled MERN stack developer with over a year of experience specializing in React JS, Next JS, and Node JS\"\n",
    "\n",
    "print(bio)"
   ]
  },
  {
   "cell_type": "markdown",
   "metadata": {},
   "source": [
    "3. Write a program in which use all the operators we can use in Python"
   ]
  },
  {
   "cell_type": "code",
   "execution_count": 17,
   "metadata": {},
   "outputs": [
    {
     "name": "stdout",
     "output_type": "stream",
     "text": [
      "a + b = 15\n",
      "a - b = -5\n",
      "a * b = 50\n",
      "a / b = 0.5\n",
      "a % b = 5\n",
      "a // b = 0\n",
      "a ** b = 9765625\n",
      "a == b: False\n",
      "a != b: True\n",
      "a > b: False\n",
      "a < b: True\n",
      "a >= b: False\n",
      "a <= b: True\n",
      "x and y: False\n",
      "x or y: True\n",
      "not x: False\n",
      "\n",
      "Assignment Operators:\n",
      "x += 5: 15\n",
      "x -= 3: 12\n",
      "x *= 2: 24\n",
      "x /= 4: 6.0\n",
      "x %= 3: 0.0\n",
      "x //= 2: 0.0\n",
      "x **= 3: 0.0\n"
     ]
    }
   ],
   "source": [
    "# Write your code here\n",
    "\n",
    "a=5\n",
    "b=10\n",
    "\n",
    "#Arithmetic Operators\n",
    "\n",
    "print(f\"a + b = {a + b}\")  # Addition\n",
    "print(f\"a - b = {a - b}\")  # Subtraction\n",
    "print(f\"a * b = {a * b}\")  # Multiplication\n",
    "print(f\"a / b = {a / b}\")  # Division (float)\n",
    "print(f\"a % b = {a % b}\")  # Modulus (remainder)\n",
    "print(f\"a // b = {a // b}\")  # Floor division\n",
    "print(f\"a ** b = {a ** b}\")  # Exponentiation\n",
    "\n",
    "# Comparison Operators\n",
    "\n",
    "print(f\"a == b: {a == b}\")  # Equal to\n",
    "print(f\"a != b: {a != b}\")  # Not equal to\n",
    "print(f\"a > b: {a > b}\")    # Greater than\n",
    "print(f\"a < b: {a < b}\")    # Less than\n",
    "print(f\"a >= b: {a >= b}\")  # Greater than or equal to\n",
    "print(f\"a <= b: {a <= b}\")  # Less than or equal to\n",
    "\n",
    "# Logical Operators\n",
    "x = True\n",
    "y = False\n",
    "\n",
    "print(f\"x and y: {x and y}\")  # AND\n",
    "print(f\"x or y: {x or y}\")    # OR\n",
    "print(f\"not x: {not x}\")      # Not\n",
    "\n",
    "# Assignment Operators\n",
    "x = 10\n",
    "x += 5  # x = x + 5\n",
    "print(\"\\nAssignment Operators:\")\n",
    "print(f\"x += 5: {x}\")\n",
    "\n",
    "x -= 3  # x = x - 3\n",
    "print(f\"x -= 3: {x}\")\n",
    "\n",
    "x *= 2  # x = x * 2\n",
    "print(f\"x *= 2: {x}\")\n",
    "\n",
    "x /= 4  # x = x / 4\n",
    "print(f\"x /= 4: {x}\")\n",
    "\n",
    "x %= 3  # x = x % 3\n",
    "print(f\"x %= 3: {x}\")\n",
    "\n",
    "x //= 2  # x = x // 2\n",
    "print(f\"x //= 2: {x}\")\n",
    "\n",
    "x **= 3  # x = x ** 3\n",
    "print(f\"x **= 3: {x}\")\n",
    "\n",
    "# Membership Operators\n",
    "list1 = [1, 2, 3, 4, 5]\n",
    "\n",
    "print(\"\\nMembership Operators:\")\n",
    "print(f\"3 in list1: {3 in list1}\")  # in\n",
    "print(f\"6 not in list1: {6 not in list1}\")  # not in\n"
   ]
  },
  {
   "cell_type": "markdown",
   "metadata": {},
   "source": [
    "4. Completes the following steps of small task:\n",
    "    - Mention Marks of English , Islamiat and Maths out of 100 in 3 different variables\n",
    "    - Mention Variable of Total Marks and assign 300 to it\n",
    "    - Calculate Percentage"
   ]
  },
  {
   "cell_type": "code",
   "execution_count": 19,
   "metadata": {},
   "outputs": [
    {
     "name": "stdout",
     "output_type": "stream",
     "text": [
      "Percentage is 75.0\n"
     ]
    }
   ],
   "source": [
    "# Write your code here\n",
    "\n",
    "isl=80\n",
    "eng=70\n",
    "math=75\n",
    "\n",
    "obtMarks=isl+eng+math\n",
    "totalMarks=300\n",
    "\n",
    "percentage=obtMarks*100/totalMarks\n",
    "\n",
    "print(f\"Percentage is {percentage}\")"
   ]
  },
  {
   "cell_type": "markdown",
   "metadata": {},
   "source": [
    "# Part -2 Python Basics (Conditional Statements)"
   ]
  },
  {
   "cell_type": "markdown",
   "metadata": {},
   "source": [
    "1) A company decided to give bonus of 5% to employee if his/her year of service is more than 5 years.\n",
    "Ask user for their salary and year of service and print the net bonus amount."
   ]
  },
  {
   "cell_type": "code",
   "execution_count": 1,
   "metadata": {},
   "outputs": [
    {
     "name": "stdin",
     "output_type": "stream",
     "text": [
      "Enter Your Salary 25000\n",
      "Enter Your Year of Service 6\n"
     ]
    },
    {
     "name": "stdout",
     "output_type": "stream",
     "text": [
      "Your Bonus is : 1250.0pk\n"
     ]
    }
   ],
   "source": [
    "#Type your code here\n",
    "\n",
    "salary=int(input(\"Enter Your Salary\"))\n",
    "service_years=int(input(\"Enter Your Year of Service\"))\n",
    "bonus=salary*5/100\n",
    "\n",
    "if service_years>=5:\n",
    "    print(f\"Your Bonus is : {bonus} pkr\")\n",
    "\n",
    "else:\n",
    "    print(\"Your are not Eligible for the Bonus\")"
   ]
  },
  {
   "cell_type": "markdown",
   "metadata": {},
   "source": [
    "\n",
    "2) Write a program to check whether a person is eligible for voting or not. (accept age from user) if age is greater than 17 eligible otherwise not eligible"
   ]
  },
  {
   "cell_type": "code",
   "execution_count": 3,
   "metadata": {},
   "outputs": [
    {
     "name": "stdin",
     "output_type": "stream",
     "text": [
      "Enter Your Age 16\n"
     ]
    },
    {
     "name": "stdout",
     "output_type": "stream",
     "text": [
      "You are not eligible for vote casting\n"
     ]
    }
   ],
   "source": [
    "#Type your code here\n",
    "\n",
    "age=int(input(\"Enter Your Age\"))\n",
    "\n",
    "if age>=17:\n",
    "    print(\"You are eligible for vote casting\")\n",
    "\n",
    "else:\n",
    "    print(\"You are not eligible for vote casting\")"
   ]
  },
  {
   "cell_type": "markdown",
   "metadata": {},
   "source": [
    "\n",
    "3) Write a program to check whether a number entered by user is even or odd."
   ]
  },
  {
   "cell_type": "code",
   "execution_count": 7,
   "metadata": {},
   "outputs": [
    {
     "name": "stdin",
     "output_type": "stream",
     "text": [
      "Enter Number 2\n"
     ]
    },
    {
     "name": "stdout",
     "output_type": "stream",
     "text": [
      "2 is Even Number\n"
     ]
    }
   ],
   "source": [
    "#Type your code here\n",
    "\n",
    "getNumber=int(input(\"Enter Number\"))\n",
    "\n",
    "if getNumber%2==0:\n",
    "    print(f\"{getNumber} is Even Number\")\n",
    "\n",
    "else:\n",
    "    print(f\"{getNumber} is Odd Number\")"
   ]
  },
  {
   "cell_type": "markdown",
   "metadata": {},
   "source": [
    "4) Write a program to check whether a number is divisible by 7 or not.\n",
    "Show Answer"
   ]
  },
  {
   "cell_type": "code",
   "execution_count": 11,
   "metadata": {},
   "outputs": [
    {
     "name": "stdin",
     "output_type": "stream",
     "text": [
      "Enter Number 14\n"
     ]
    },
    {
     "name": "stdout",
     "output_type": "stream",
     "text": [
      "14 is divisible by 7\n"
     ]
    }
   ],
   "source": [
    "#Type your code here\n",
    "\n",
    "getNumber=int(input(\"Enter Number\"))\n",
    "\n",
    "if getNumber%7==0:\n",
    "    print(f\"{getNumber} is divisible by 7\")\n",
    "\n",
    "else:\n",
    "    print(f\"{getNumber} is not divisible by 7\")"
   ]
  },
  {
   "cell_type": "markdown",
   "metadata": {},
   "source": [
    "5) Write a program to display \n",
    "\"Hello\" if a number entered by user is a multiple of five , otherwise print \"Bye\"."
   ]
  },
  {
   "cell_type": "code",
   "execution_count": 11,
   "metadata": {},
   "outputs": [],
   "source": [
    "#Type your code here\n",
    "\n",
    "getNumber=int(input(\"Enter Number\"))\n",
    "\n",
    "if getNumber%5==0:\n",
    "    print(f\"Hello\")\n",
    "\n",
    "else:\n",
    "    print(f\"Bye\")"
   ]
  },
  {
   "cell_type": "markdown",
   "metadata": {},
   "source": [
    "7) Write a program to display the last digit of a number.\n"
   ]
  },
  {
   "cell_type": "code",
   "execution_count": 13,
   "metadata": {},
   "outputs": [
    {
     "name": "stdin",
     "output_type": "stream",
     "text": [
      "Enter Number 12358\n"
     ]
    },
    {
     "name": "stdout",
     "output_type": "stream",
     "text": [
      "8\n"
     ]
    }
   ],
   "source": [
    "#Type your code here\n",
    "\n",
    "getNumber=int(input(\"Enter Number\"))\n",
    "\n",
    "last_digit=getNumber%10\n",
    "\n",
    "print(last_digit)"
   ]
  },
  {
   "cell_type": "markdown",
   "metadata": {},
   "source": [
    "9) Take values of length and breadth of a rectangle from user and print if it is square or rectangle."
   ]
  },
  {
   "cell_type": "code",
   "execution_count": 15,
   "metadata": {},
   "outputs": [
    {
     "name": "stdin",
     "output_type": "stream",
     "text": [
      "Enter the Length 5\n",
      "Enter the breadth 5\n"
     ]
    },
    {
     "name": "stdout",
     "output_type": "stream",
     "text": [
      "It is a Square\n"
     ]
    }
   ],
   "source": [
    "#Type your code here \n",
    "\n",
    "length=int(input(\"Enter the Length\"))\n",
    "breadth=int(input(\"Enter the breadth\"))\n",
    "\n",
    "if length==breadth:\n",
    "    print(\"It is a Square\")\n",
    "\n",
    "else:\n",
    "    print(\"It is a Rectangle\")"
   ]
  },
  {
   "cell_type": "markdown",
   "metadata": {},
   "source": [
    "10) Take two int values from user and print greatest among them."
   ]
  },
  {
   "cell_type": "code",
   "execution_count": 17,
   "metadata": {},
   "outputs": [
    {
     "name": "stdin",
     "output_type": "stream",
     "text": [
      "Enter the First Number 5\n",
      "Enter the Second Number 6\n"
     ]
    },
    {
     "name": "stdout",
     "output_type": "stream",
     "text": [
      "Greatest number is: 6\n"
     ]
    }
   ],
   "source": [
    "# Type your code here\n",
    "\n",
    "num1=int(input(\"Enter the First Number\"))\n",
    "num2=int(input(\"Enter the Second Number\"))\n",
    "\n",
    "if num1 > num2:\n",
    "    print(\"Greatest number is:\", num1)\n",
    "elif num2 > num1:\n",
    "    print(\"Greatest number is:\", num2)\n",
    "else:\n",
    "    print(\"Both numbers are equal.\")\n",
    "    "
   ]
  },
  {
   "cell_type": "markdown",
   "metadata": {},
   "source": [
    "11) A shop will give discount of 10% if the cost of purchased quantity is more than 1000.\n",
    "Ask user for quantity\n",
    "Suppose, one unit will cost 100.\n",
    "Judge and print total cost for user."
   ]
  },
  {
   "cell_type": "code",
   "execution_count": 23,
   "metadata": {},
   "outputs": [
    {
     "name": "stdin",
     "output_type": "stream",
     "text": [
      "Enter Quantity 9\n"
     ]
    },
    {
     "name": "stdout",
     "output_type": "stream",
     "text": [
      "Your are not Eligible for discount\n"
     ]
    }
   ],
   "source": [
    "#Type your code here\n",
    "\n",
    "quantity=int(input(\"Enter Quantity\"))\n",
    "\n",
    "unit_price=100\n",
    "\n",
    "total_cost=quantity*unit_price\n",
    "\n",
    "if total_cost>=1000:\n",
    "    discount=total_cost*0.10\n",
    "    total_cost-=discount\n",
    "    print(f\"Discounted price is : {discount}\")\n",
    "\n",
    "else:\n",
    "    print(\"Your are not Eligible for discount\")"
   ]
  },
  {
   "cell_type": "markdown",
   "metadata": {},
   "source": [
    "12) A school has following rules for grading system:\n",
    "\n",
    "a. Below 25 - F\n",
    "\n",
    "b. 25 to 45 - E\n",
    "\n",
    "c. 45 to 50 - D\n",
    "\n",
    "d. 50 to 60 - C\n",
    "\n",
    "e. 60 to 80 - B\n",
    "\n",
    "f. Above 80 - A\n",
    "\n",
    "Ask user to enter marks and print the corresponding grade."
   ]
  },
  {
   "cell_type": "code",
   "execution_count": 2,
   "metadata": {},
   "outputs": [],
   "source": [
    "#Type your code here\n",
    "\n",
    "getMarks=int(input(\"Enter Your Marks\"))\n",
    "\n",
    "if getMarks>=80 and getMarks<=100:\n",
    "    print(\"Grade: A\")\n",
    "\n",
    "elif getMarks>=60 and getMarks<80:\n",
    "    print(\"Grade: B\")\n",
    "\n",
    "elif getMarks>=50 and getMarks<45:\n",
    "    print(\"Grade: C\")\n",
    "\n",
    "elif getMarks>=45 and getMarks<=25:\n",
    "    print(\"Grade: D\")\n",
    "\n",
    "elif getMarks>=0 and getMarks<25:\n",
    "    print(\"You Are Fail\")\n",
    "\n",
    "else:\n",
    "    print(\"Invalid Marks\")"
   ]
  },
  {
   "cell_type": "markdown",
   "metadata": {},
   "source": [
    "14)A student will not be allowed to sit in exam if his/her attendence is less than 75%.\n",
    "\n",
    "Take following input from user\n",
    "\n",
    "- Number of classes held\n",
    "\n",
    "- Number of classes attended.\n",
    "\n",
    "And print\n",
    "\n",
    "- percentage of class attended\n",
    "\n",
    "- Is student is allowed to sit in exam or not.\n"
   ]
  },
  {
   "cell_type": "code",
   "execution_count": 27,
   "metadata": {},
   "outputs": [
    {
     "name": "stdin",
     "output_type": "stream",
     "text": [
      "Enter the number of classes held:  88\n",
      "Enter the number of classes attended:  75\n"
     ]
    },
    {
     "name": "stdout",
     "output_type": "stream",
     "text": [
      "Attendance Percentage: 85.23%\n",
      "Student is allowed to sit in the exam.\n"
     ]
    }
   ],
   "source": [
    "#Type your code here\n",
    "\n",
    "classes_held = int(input(\"Enter the number of classes held: \"))\n",
    "classes_attended = int(input(\"Enter the number of classes attended: \"))\n",
    "\n",
    "# Calculate attendance percentage\n",
    "attendance_percentage = (classes_attended / classes_held) * 100\n",
    "\n",
    "print(f\"Attendance Percentage: {attendance_percentage:.2f}%\")\n",
    "\n",
    "if attendance_percentage >= 75:\n",
    "    print(\"Student is allowed to sit in the exam.\")\n",
    "else:\n",
    "    print(\"Student is NOT allowed to sit in the exam.\")"
   ]
  },
  {
   "cell_type": "markdown",
   "metadata": {},
   "source": [
    "15) Modify the above question to allow student to sit if he/she has medical cause. Ask user if he/she has medical cause or not ( 'Y' or 'N' ) and print accordingly."
   ]
  },
  {
   "cell_type": "code",
   "execution_count": 29,
   "metadata": {},
   "outputs": [
    {
     "name": "stdin",
     "output_type": "stream",
     "text": [
      "Enter the number of classes held:  100\n",
      "Enter the number of classes attended:  30\n",
      "Do you have a medical cause? (Y/N):  y\n"
     ]
    },
    {
     "name": "stdout",
     "output_type": "stream",
     "text": [
      "Student is allowed to sit in the exam due to medical cause.\n"
     ]
    }
   ],
   "source": [
    "#Type your code here\n",
    "\n",
    "classes_held = int(input(\"Enter the number of classes held: \"))\n",
    "classes_attended = int(input(\"Enter the number of classes attended: \"))\n",
    "\n",
    "# Calculate attendance percentage\n",
    "attendance_percentage = (classes_attended / classes_held) * 100\n",
    "\n",
    "\n",
    "if attendance_percentage >= 75:\n",
    "    print(\"Student is allowed to sit in the exam.\")\n",
    "else:\n",
    "    medical_cause = input(\"Do you have a medical cause? (Y/N): \").strip().upper()\n",
    "    \n",
    "    if medical_cause == 'Y':\n",
    "        print(\"Student is allowed to sit in the exam due to medical cause.\")\n",
    "    else:\n",
    "        print(\"Student is NOT allowed to sit in the exam.\")"
   ]
  },
  {
   "cell_type": "markdown",
   "metadata": {},
   "source": [
    "16) Write a program to check if a year is leap year or not.\n",
    "\n",
    "If a year is divisible by 4 then it is leap year but if the year is century year like 2000, 1900, 2100 then it must be divisible by 400."
   ]
  },
  {
   "cell_type": "code",
   "execution_count": 21,
   "metadata": {},
   "outputs": [],
   "source": [
    "#Type your code here\n",
    "\n",
    "year=int(input(\"Enter Year: \"))\n",
    "\n",
    "if year%4==0 and (year%100!=0 or year%400==0):\n",
    "    print(\"Leap Year: \",year)\n",
    "\n",
    "else:\n",
    "    print(\"Not a Leap Year: \",year)"
   ]
  },
  {
   "cell_type": "markdown",
   "metadata": {},
   "source": [
    "17) Ask user to enter age, gender ( M or F ), marital status ( Y or N ) and then using following rules print their place of service.\n",
    "\n",
    "if employee is female, then she will work only in urban areas.\n",
    "\n",
    "if employee is a male and age is in between 20 to 40 then he may work in anywhere\n",
    "\n",
    "if employee is male and age is in between 40 t0 60 then he will work in urban areas only.\n",
    "\n",
    "And any other input of age should print \"ERROR\""
   ]
  },
  {
   "cell_type": "code",
   "execution_count": 22,
   "metadata": {},
   "outputs": [],
   "source": [
    "#Type your code here\n",
    "\n",
    "age = int(input(\"Enter age: \"))\n",
    "gender = input(\"Enter gender (M/F): \").strip().upper()\n",
    "marital_status = input(\"Enter marital status (Y/N): \").strip().upper()\n",
    "\n",
    "if gender == 'F':\n",
    "    print(\"You will work only in urban areas.\")\n",
    "elif gender == 'M':\n",
    "    if 20 <= age <= 40:\n",
    "        print(\"You may work anywhere.\")\n",
    "    elif 40 < age <= 60:\n",
    "        print(\"You will work only in urban areas.\")\n",
    "    else:\n",
    "        print(\"ERROR: Invalid age input.\")\n",
    "else:\n",
    "    print(\"ERROR: Invalid gender input.\")\n"
   ]
  },
  {
   "cell_type": "markdown",
   "metadata": {},
   "source": [
    "6) Write a program to calculate the electricity bill (accept number of unit from user) according to the following criteria :\n",
    "     Unit                                                     Price  \n",
    "uptp 100 units                                             no charge\n",
    "Next 200 units                                              Rs 5 per unit\n",
    "After 200 units                                             Rs 10 per unit\n",
    "(For example if input unit is 350 than total bill amount is Rs.3500\n",
    "(For example if input unit is 97 than total bill amount is Rs.0\n",
    "(For example if input unit is 150 than total bill amount is Rs.750"
   ]
  },
  {
   "cell_type": "code",
   "execution_count": null,
   "metadata": {},
   "outputs": [],
   "source": [
    "\n",
    "units = int(input(\"Enter the number of units consumed: \"))\n",
    "\n",
    "\n",
    "bill_amount = 0\n",
    "\n",
    "if units <= 100:\n",
    "    bill_amount = 0  # No charge for first 100 units\n",
    "elif units <= 300:\n",
    "    bill_amount = (units - 100) * 5  # Rs 5 per unit for next 200 units\n",
    "else:\n",
    "    bill_amount = (200 * 5) + (units - 300) * 10  # Rs 5 per unit for next 200 units, Rs 10 per unit after 300 units\n",
    "\n",
    "print(f\"Total electricity bill: Rs.{bill_amount}\")\n"
   ]
  },
  {
   "cell_type": "markdown",
   "metadata": {},
   "source": [
    "13) Take input of age of 3 people by user and determine oldest and youngest among them."
   ]
  },
  {
   "cell_type": "code",
   "execution_count": 31,
   "metadata": {},
   "outputs": [
    {
     "name": "stdin",
     "output_type": "stream",
     "text": [
      "Enter age of first person:  45\n",
      "Enter age of second person:  65\n",
      "Enter age of third person:  90\n"
     ]
    },
    {
     "name": "stdout",
     "output_type": "stream",
     "text": [
      "The oldest person is 90 years old.\n",
      "The youngest person is 45 years old.\n"
     ]
    }
   ],
   "source": [
    "#Type your code here\n",
    "\n",
    "age1 = int(input(\"Enter age of first person: \"))\n",
    "age2 = int(input(\"Enter age of second person: \"))\n",
    "age3 = int(input(\"Enter age of third person: \"))\n",
    "\n",
    "# Determine the oldest\n",
    "if age1 >= age2 and age1 >= age3:\n",
    "    oldest = age1\n",
    "elif age2 >= age1 and age2 >= age3:\n",
    "    oldest = age2\n",
    "else:\n",
    "    oldest = age3\n",
    "\n",
    "# Determine the youngest\n",
    "if age1 <= age2 and age1 <= age3:\n",
    "    youngest = age1\n",
    "elif age2 <= age1 and age2 <= age3:\n",
    "    youngest = age2\n",
    "else:\n",
    "    youngest = age3\n",
    "\n",
    "# Print the results\n",
    "print(f\"The oldest person is {oldest} years old.\")\n",
    "print(f\"The youngest person is {youngest} years old.\")\n",
    "\n",
    "\n"
   ]
  },
  {
   "cell_type": "code",
   "execution_count": null,
   "metadata": {},
   "outputs": [],
   "source": []
  }
 ],
 "metadata": {
  "kernelspec": {
   "display_name": "Python [conda env:base] *",
   "language": "python",
   "name": "conda-base-py"
  },
  "language_info": {
   "codemirror_mode": {
    "name": "ipython",
    "version": 3
   },
   "file_extension": ".py",
   "mimetype": "text/x-python",
   "name": "python",
   "nbconvert_exporter": "python",
   "pygments_lexer": "ipython3",
   "version": "3.12.7"
  }
 },
 "nbformat": 4,
 "nbformat_minor": 4
}
