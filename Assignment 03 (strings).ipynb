{
 "cells": [
  {
   "cell_type": "markdown",
   "metadata": {},
   "source": [
    "# Strings Assignments "
   ]
  },
  {
   "cell_type": "markdown",
   "metadata": {},
   "source": [
    "1. Write a program that accepts a string from user. Your program should count and display number of \n",
    "vowels in that string.  "
   ]
  },
  {
   "cell_type": "code",
   "execution_count": 4,
   "metadata": {},
   "outputs": [
    {
     "name": "stdout",
     "output_type": "stream",
     "text": [
      "Number of vowels in the string is:  3\n"
     ]
    }
   ],
   "source": [
    "getStr=input(\"Enter Your Description\")\n",
    "\n",
    "vowels = 'aeiouAEIOU'\n",
    "count = 0\n",
    "for char in getStr:\n",
    "    if char in vowels:\n",
    "        count += 1\n",
    "print(\"Number of vowels in the string is: \", count)\n"
   ]
  },
  {
   "cell_type": "markdown",
   "metadata": {},
   "source": [
    "2. Write a program that reads a string from keyboard and display: \n",
    "* The number of uppercase letters in the string \n",
    "* The number of lowercase letters in the string \n",
    "* The number of digits in the string \n",
    "* The number of whitespace characters in the string  "
   ]
  },
  {
   "cell_type": "code",
   "execution_count": 3,
   "metadata": {},
   "outputs": [
    {
     "name": "stdout",
     "output_type": "stream",
     "text": [
      "Number of uppercase letters in the string is:  0\n",
      "Number of lowercase letters in the string is:  6\n",
      "Number of digits in the string is:  4\n",
      "Number of whitespace characters in the string is:  1\n"
     ]
    }
   ],
   "source": [
    "getStr=input(\"Enter the description\")\n",
    "count_upper = 0\n",
    "count_lower = 0\n",
    "count_digit = 0\n",
    "count_space = 0\n",
    "for char in getStr:\n",
    "    if char.isupper():\n",
    "        count_upper += 1\n",
    "    elif char.islower():\n",
    "        count_lower += 1\n",
    "    elif char.isdigit():\n",
    "        count_digit += 1\n",
    "    elif char.isspace():\n",
    "        count_space += 1\n",
    "    else:\n",
    "        print(\"Enter Description please\")\n",
    "\n",
    "print(\"Number of uppercase letters in the string is: \", count_upper)\n",
    "print(\"Number of lowercase letters in the string is: \", count_lower)\n",
    "print(\"Number of digits in the string is: \", count_digit)\n",
    "print(\"Number of whitespace characters in the string is: \", count_space)"
   ]
  },
  {
   "cell_type": "markdown",
   "metadata": {},
   "source": [
    "3. Write a Python program that accepts a string from user. Your program should create and display a \n",
    "new string where the first and last characters have been exchanged. "
   ]
  },
  {
   "cell_type": "code",
   "execution_count": null,
   "metadata": {},
   "outputs": [
    {
     "name": "stdout",
     "output_type": "stream",
     "text": [
      "Original String:  Muneeb Babar\n",
      "Swapped String:  runeeb BabaM\n"
     ]
    }
   ],
   "source": [
    "getStr=input(\"Enter the description\")\n",
    "print(\"Original String: \",getStr)\n",
    "\n",
    "# Get Char \n",
    "first_char=getStr[0]\n",
    "last_char=getStr[-1]\n",
    "\n",
    "# Swapping the first and last character of the string\n",
    "swapped_str=last_char+getStr[1:-1]+first_char\n",
    "print(\"Swapped String: \",swapped_str)"
   ]
  },
  {
   "cell_type": "markdown",
   "metadata": {},
   "source": [
    "4. Write a Python program that accepts a string from user. Your program should create a new string in \n",
    "reverse of first string and display it."
   ]
  },
  {
   "cell_type": "code",
   "execution_count": 6,
   "metadata": {},
   "outputs": [
    {
     "name": "stdout",
     "output_type": "stream",
     "text": [
      "Reversed string: maxE\n"
     ]
    }
   ],
   "source": [
    "getStr=input(\"Enter the description\")\n",
    "\n",
    "reversed_string = ''.join(reversed(getStr))\n",
    "\n",
    "# Display the reversed string\n",
    "print(f\"Reversed string: {reversed_string}\")\n"
   ]
  },
  {
   "cell_type": "markdown",
   "metadata": {},
   "source": [
    "5. Write a Python program that accepts a string from user. Your program should create a new string by \n",
    "shifting one position to left. \n",
    "\n",
    "For example if the user enters the string 'examination 2021' then new string would be 'xamination \n",
    "2021e'  "
   ]
  },
  {
   "cell_type": "code",
   "execution_count": 7,
   "metadata": {},
   "outputs": [
    {
     "name": "stdout",
     "output_type": "stream",
     "text": [
      "xamination 2021e\n"
     ]
    }
   ],
   "source": [
    "getStr=input(\"Enter the description\")\n",
    "\n",
    "newStr = getStr[1:] + getStr[0:1]\n",
    "print(newStr)"
   ]
  },
  {
   "cell_type": "markdown",
   "metadata": {},
   "source": [
    "6. Write a program that asks the user to input his name and print its initials. Assuming that the user \n",
    "always types first name, middle name and last name and does not include any unnecessary spaces. \n",
    "For example, if the user enters Ajay Kumar Garg the program should display A. K. G. \n",
    "Note:Don't use split() method  "
   ]
  },
  {
   "cell_type": "code",
   "execution_count": 8,
   "metadata": {},
   "outputs": [
    {
     "name": "stdout",
     "output_type": "stream",
     "text": [
      "Initials: M. B.\n"
     ]
    }
   ],
   "source": [
    "user_input = input(\"Enter your full name (First Middle Last): \")\n",
    "\n",
    "# Initialize an empty string to store initials\n",
    "initials = \"\"\n",
    "\n",
    "if user_input:\n",
    "    initials += user_input[0] + \". \"  \n",
    "\n",
    "for i in range(1, len(user_input)):\n",
    "    if user_input[i] == \" \":  \n",
    "        initials += user_input[i + 1] + \". \" \n",
    "\n",
    "\n",
    "print(f\"Initials: {initials.strip()}\")"
   ]
  },
  {
   "cell_type": "markdown",
   "metadata": {},
   "source": [
    "7. A palindrome is a string that reads the same backward as forward. For example, the words dad, \n",
    "madam and radar are all palindromes. Write a programs that determines whether the string is a \n",
    "palindrome. \n",
    "Note: do not use reverse() method   "
   ]
  },
  {
   "cell_type": "code",
   "execution_count": 9,
   "metadata": {},
   "outputs": [
    {
     "name": "stdout",
     "output_type": "stream",
     "text": [
      "The string is a palindrome.\n"
     ]
    }
   ],
   "source": [
    "getStr=input(\"Enter the Value\")\n",
    "reverse_string = \"\"\n",
    "\n",
    "for char in getStr:\n",
    "        reverse_string = char + reverse_string  \n",
    "\n",
    "if getStr == reverse_string:\n",
    "    print(\"The string is a palindrome.\")\n",
    "else:\n",
    "    print(\"The string is not a palindrome.\")"
   ]
  },
  {
   "cell_type": "markdown",
   "metadata": {},
   "source": [
    "8. Write a program that display following output: \n",
    "SHIFT \n",
    "HIFTS \n",
    "IFTSH \n",
    "FTSHI \n",
    "TSHIF \n",
    "SHIFT "
   ]
  },
  {
   "cell_type": "code",
   "execution_count": null,
   "metadata": {},
   "outputs": [
    {
     "name": "stdout",
     "output_type": "stream",
     "text": [
      "SHIFT\n",
      "HIFTS\n",
      "IFTSH\n",
      "FTSHI\n",
      "TSHIF\n",
      "SHIFT\n"
     ]
    }
   ],
   "source": [
    "\n",
    "word = \"SHIFT\"\n",
    "length = len(word)\n",
    "\n",
    "# Generate and display the rotations\n",
    "for i in range(length):\n",
    "    print(word[i:] + word[:i])  # Rotate the word\n",
    "\n",
    "print(word)"
   ]
  },
  {
   "cell_type": "markdown",
   "metadata": {},
   "source": [
    "9. Write a program in python that accepts a string to setup a passwords. Your entered password must \n",
    "meet the following requirements: \n",
    "\n",
    "The password must be at least eight characters long. \n",
    "It must contain at least one uppercase letter. \n",
    "It must contain at least one lowercase letter. \n",
    "It must contain at least one numeric digit. \n",
    "Your program should should perform this validation.  "
   ]
  },
  {
   "cell_type": "code",
   "execution_count": 12,
   "metadata": {},
   "outputs": [
    {
     "name": "stdout",
     "output_type": "stream",
     "text": [
      "Password is valid!\n"
     ]
    }
   ],
   "source": [
    "\n",
    "password = input(\"Enter your password: \")\n",
    "\n",
    "# Check length requirement\n",
    "if len(password) < 8:\n",
    "    print(\"Password must be at least 8 characters long.\")\n",
    "else:\n",
    "    has_upper = has_lower = has_digit = False\n",
    "\n",
    "    # Check for uppercase, lowercase, and digit\n",
    "    for char in password:\n",
    "        if char.isupper():\n",
    "            has_upper = True\n",
    "        elif char.islower():\n",
    "            has_lower = True\n",
    "        elif char.isdigit():\n",
    "            has_digit = True\n",
    "\n",
    "    # Validate password\n",
    "    if has_upper and has_lower and has_digit:\n",
    "        print(\"Password is valid!\")\n",
    "    else:\n",
    "        print(\"Password must contain at least one uppercase letter, one lowercase letter, and one numeric digit.\")\n"
   ]
  },
  {
   "cell_type": "code",
   "execution_count": null,
   "metadata": {},
   "outputs": [],
   "source": []
  }
 ],
 "metadata": {
  "kernelspec": {
   "display_name": "base",
   "language": "python",
   "name": "python3"
  },
  "language_info": {
   "codemirror_mode": {
    "name": "ipython",
    "version": 3
   },
   "file_extension": ".py",
   "mimetype": "text/x-python",
   "name": "python",
   "nbconvert_exporter": "python",
   "pygments_lexer": "ipython3",
   "version": "3.12.7"
  }
 },
 "nbformat": 4,
 "nbformat_minor": 2
}
